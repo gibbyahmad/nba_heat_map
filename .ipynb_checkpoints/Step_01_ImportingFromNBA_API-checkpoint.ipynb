{
 "cells": [
  {
   "cell_type": "code",
   "execution_count": 1,
   "metadata": {},
   "outputs": [
    {
     "ename": "OSError",
     "evalue": "[WinError 193] %1 is not a valid Win32 application",
     "output_type": "error",
     "traceback": [
      "\u001b[1;31m---------------------------------------------------------------------------\u001b[0m",
      "\u001b[1;31mOSError\u001b[0m                                   Traceback (most recent call last)",
      "\u001b[1;32m<ipython-input-1-367f4f83c05b>\u001b[0m in \u001b[0;36m<module>\u001b[1;34m\u001b[0m\n\u001b[0;32m      1\u001b[0m \u001b[1;31m# Import Dependencies\u001b[0m\u001b[1;33m\u001b[0m\u001b[1;33m\u001b[0m\u001b[1;33m\u001b[0m\u001b[0m\n\u001b[1;32m----> 2\u001b[1;33m \u001b[1;32mimport\u001b[0m \u001b[0mpandas\u001b[0m \u001b[1;32mas\u001b[0m \u001b[0mpd\u001b[0m\u001b[1;33m\u001b[0m\u001b[1;33m\u001b[0m\u001b[0m\n\u001b[0m\u001b[0;32m      3\u001b[0m \u001b[1;32mfrom\u001b[0m \u001b[0mnba_api\u001b[0m\u001b[1;33m.\u001b[0m\u001b[0mstats\u001b[0m\u001b[1;33m.\u001b[0m\u001b[0mendpoints\u001b[0m \u001b[1;32mimport\u001b[0m \u001b[0mcommonplayerinfo\u001b[0m\u001b[1;33m\u001b[0m\u001b[1;33m\u001b[0m\u001b[0m\n\u001b[0;32m      4\u001b[0m \u001b[1;32mfrom\u001b[0m \u001b[0mnba_api\u001b[0m\u001b[1;33m.\u001b[0m\u001b[0mstats\u001b[0m\u001b[1;33m.\u001b[0m\u001b[0mstatic\u001b[0m \u001b[1;32mimport\u001b[0m \u001b[0mplayers\u001b[0m\u001b[1;33m,\u001b[0m \u001b[0mteams\u001b[0m\u001b[1;33m\u001b[0m\u001b[1;33m\u001b[0m\u001b[0m\n\u001b[0;32m      5\u001b[0m \u001b[1;32mfrom\u001b[0m \u001b[0mpprint\u001b[0m \u001b[1;32mimport\u001b[0m \u001b[0mpprint\u001b[0m\u001b[1;33m\u001b[0m\u001b[1;33m\u001b[0m\u001b[0m\n",
      "\u001b[1;32m~\\AppData\\Roaming\\Python\\Python37\\site-packages\\pandas\\__init__.py\u001b[0m in \u001b[0;36m<module>\u001b[1;34m\u001b[0m\n\u001b[0;32m     11\u001b[0m \u001b[1;32mfor\u001b[0m \u001b[0mdependency\u001b[0m \u001b[1;32min\u001b[0m \u001b[0mhard_dependencies\u001b[0m\u001b[1;33m:\u001b[0m\u001b[1;33m\u001b[0m\u001b[1;33m\u001b[0m\u001b[0m\n\u001b[0;32m     12\u001b[0m     \u001b[1;32mtry\u001b[0m\u001b[1;33m:\u001b[0m\u001b[1;33m\u001b[0m\u001b[1;33m\u001b[0m\u001b[0m\n\u001b[1;32m---> 13\u001b[1;33m         \u001b[0m__import__\u001b[0m\u001b[1;33m(\u001b[0m\u001b[0mdependency\u001b[0m\u001b[1;33m)\u001b[0m\u001b[1;33m\u001b[0m\u001b[1;33m\u001b[0m\u001b[0m\n\u001b[0m\u001b[0;32m     14\u001b[0m     \u001b[1;32mexcept\u001b[0m \u001b[0mImportError\u001b[0m \u001b[1;32mas\u001b[0m \u001b[0me\u001b[0m\u001b[1;33m:\u001b[0m\u001b[1;33m\u001b[0m\u001b[1;33m\u001b[0m\u001b[0m\n\u001b[0;32m     15\u001b[0m         \u001b[0mmissing_dependencies\u001b[0m\u001b[1;33m.\u001b[0m\u001b[0mappend\u001b[0m\u001b[1;33m(\u001b[0m\u001b[0mdependency\u001b[0m\u001b[1;33m)\u001b[0m\u001b[1;33m\u001b[0m\u001b[1;33m\u001b[0m\u001b[0m\n",
      "\u001b[1;32m~\\AppData\\Roaming\\Python\\Python37\\site-packages\\numpy\\__init__.py\u001b[0m in \u001b[0;36m<module>\u001b[1;34m\u001b[0m\n\u001b[0;32m    140\u001b[0m     \u001b[1;32mfrom\u001b[0m \u001b[1;33m.\u001b[0m \u001b[1;32mimport\u001b[0m \u001b[0m_distributor_init\u001b[0m\u001b[1;33m\u001b[0m\u001b[1;33m\u001b[0m\u001b[0m\n\u001b[0;32m    141\u001b[0m \u001b[1;33m\u001b[0m\u001b[0m\n\u001b[1;32m--> 142\u001b[1;33m     \u001b[1;32mfrom\u001b[0m \u001b[1;33m.\u001b[0m \u001b[1;32mimport\u001b[0m \u001b[0mcore\u001b[0m\u001b[1;33m\u001b[0m\u001b[1;33m\u001b[0m\u001b[0m\n\u001b[0m\u001b[0;32m    143\u001b[0m     \u001b[1;32mfrom\u001b[0m \u001b[1;33m.\u001b[0m\u001b[0mcore\u001b[0m \u001b[1;32mimport\u001b[0m \u001b[1;33m*\u001b[0m\u001b[1;33m\u001b[0m\u001b[1;33m\u001b[0m\u001b[0m\n\u001b[0;32m    144\u001b[0m     \u001b[1;32mfrom\u001b[0m \u001b[1;33m.\u001b[0m \u001b[1;32mimport\u001b[0m \u001b[0mcompat\u001b[0m\u001b[1;33m\u001b[0m\u001b[1;33m\u001b[0m\u001b[0m\n",
      "\u001b[1;32m~\\AppData\\Roaming\\Python\\Python37\\site-packages\\numpy\\core\\__init__.py\u001b[0m in \u001b[0;36m<module>\u001b[1;34m\u001b[0m\n\u001b[0;32m     21\u001b[0m             \u001b[1;31m# NOTE: would it change behavior to load ALL\u001b[0m\u001b[1;33m\u001b[0m\u001b[1;33m\u001b[0m\u001b[1;33m\u001b[0m\u001b[0m\n\u001b[0;32m     22\u001b[0m             \u001b[1;31m# DLLs at this path vs. the name restriction?\u001b[0m\u001b[1;33m\u001b[0m\u001b[1;33m\u001b[0m\u001b[1;33m\u001b[0m\u001b[0m\n\u001b[1;32m---> 23\u001b[1;33m             \u001b[0mWinDLL\u001b[0m\u001b[1;33m(\u001b[0m\u001b[0mos\u001b[0m\u001b[1;33m.\u001b[0m\u001b[0mpath\u001b[0m\u001b[1;33m.\u001b[0m\u001b[0mabspath\u001b[0m\u001b[1;33m(\u001b[0m\u001b[0mfilename\u001b[0m\u001b[1;33m)\u001b[0m\u001b[1;33m)\u001b[0m\u001b[1;33m\u001b[0m\u001b[1;33m\u001b[0m\u001b[0m\n\u001b[0m\u001b[0;32m     24\u001b[0m             \u001b[0mDLL_filenames\u001b[0m\u001b[1;33m.\u001b[0m\u001b[0mappend\u001b[0m\u001b[1;33m(\u001b[0m\u001b[0mfilename\u001b[0m\u001b[1;33m)\u001b[0m\u001b[1;33m\u001b[0m\u001b[1;33m\u001b[0m\u001b[0m\n\u001b[0;32m     25\u001b[0m     \u001b[1;32mif\u001b[0m \u001b[0mlen\u001b[0m\u001b[1;33m(\u001b[0m\u001b[0mDLL_filenames\u001b[0m\u001b[1;33m)\u001b[0m \u001b[1;33m>\u001b[0m \u001b[1;36m1\u001b[0m\u001b[1;33m:\u001b[0m\u001b[1;33m\u001b[0m\u001b[1;33m\u001b[0m\u001b[0m\n",
      "\u001b[1;32m~\\Anaconda3\\lib\\ctypes\\__init__.py\u001b[0m in \u001b[0;36m__init__\u001b[1;34m(self, name, mode, handle, use_errno, use_last_error)\u001b[0m\n\u001b[0;32m    354\u001b[0m \u001b[1;33m\u001b[0m\u001b[0m\n\u001b[0;32m    355\u001b[0m         \u001b[1;32mif\u001b[0m \u001b[0mhandle\u001b[0m \u001b[1;32mis\u001b[0m \u001b[1;32mNone\u001b[0m\u001b[1;33m:\u001b[0m\u001b[1;33m\u001b[0m\u001b[1;33m\u001b[0m\u001b[0m\n\u001b[1;32m--> 356\u001b[1;33m             \u001b[0mself\u001b[0m\u001b[1;33m.\u001b[0m\u001b[0m_handle\u001b[0m \u001b[1;33m=\u001b[0m \u001b[0m_dlopen\u001b[0m\u001b[1;33m(\u001b[0m\u001b[0mself\u001b[0m\u001b[1;33m.\u001b[0m\u001b[0m_name\u001b[0m\u001b[1;33m,\u001b[0m \u001b[0mmode\u001b[0m\u001b[1;33m)\u001b[0m\u001b[1;33m\u001b[0m\u001b[1;33m\u001b[0m\u001b[0m\n\u001b[0m\u001b[0;32m    357\u001b[0m         \u001b[1;32melse\u001b[0m\u001b[1;33m:\u001b[0m\u001b[1;33m\u001b[0m\u001b[1;33m\u001b[0m\u001b[0m\n\u001b[0;32m    358\u001b[0m             \u001b[0mself\u001b[0m\u001b[1;33m.\u001b[0m\u001b[0m_handle\u001b[0m \u001b[1;33m=\u001b[0m \u001b[0mhandle\u001b[0m\u001b[1;33m\u001b[0m\u001b[1;33m\u001b[0m\u001b[0m\n",
      "\u001b[1;31mOSError\u001b[0m: [WinError 193] %1 is not a valid Win32 application"
     ]
    }
   ],
   "source": [
    "# Import Dependencies\n",
    "import pandas as pd\n",
    "from nba_api.stats.endpoints import commonplayerinfo\n",
    "from nba_api.stats.static import players, teams\n",
    "from pprint import pprint \n",
    "import time, os, json"
   ]
  },
  {
   "cell_type": "code",
   "execution_count": null,
   "metadata": {},
   "outputs": [],
   "source": [
    "# Select all players id\n",
    "lst_players = players.get_players()\n",
    "pprint(lst_players)"
   ]
  },
  {
   "cell_type": "code",
   "execution_count": null,
   "metadata": {},
   "outputs": [],
   "source": [
    "# Create a DataFrame with all players id\n",
    "player = pd.DataFrame({\"PLAYER_ID\":[x['id'] for x in lst_players]})\n",
    "\n",
    "# Create a DataFrame to store players seasons \n",
    "seasons = pd.DataFrame(columns=[\"PLAYER_ID\",\"SEASON_ID\"])"
   ]
  },
  {
   "cell_type": "code",
   "execution_count": null,
   "metadata": {},
   "outputs": [],
   "source": [
    "# Create all player columns \n",
    "player['PERSON_ID'] = None\n",
    "player['FIRST_NAME'] = None\n",
    "player['LAST_NAME'] = None\n",
    "player['FULL_NAME'] = None\n",
    "player['DISPLAY_LAST_COMMA_FIRST'] = None\n",
    "player['DISPLAY_FI_LAST'] = None\n",
    "player['BIRTHDATE'] = None\n",
    "player['SCHOOL'] = None\n",
    "player['COUNTRY'] = None\n",
    "player['LAST_AFFILIATION'] = None\n",
    "player['HEIGHT'] = None\n",
    "player['WEIGHT'] = None\n",
    "player['SEASON_EXP'] = None\n",
    "player['JERSEY'] = None\n",
    "player['POSITION'] = None\n",
    "player['ROSTERSTATUS'] = None\n",
    "player['TEAM_ID'] = None\n",
    "player['TEAM_NAME'] = None\n",
    "player['TEAM_ABBREVIATION'] = None\n",
    "player['TEAM_CODE'] = None\n",
    "player['TEAM_CITY'] = None\n",
    "player['PLAYERCODE'] = None\n",
    "player['FROM_YEAR'] = None\n",
    "player['TO_YEAR'] = None\n",
    "player['DLEAGUE_FLAG'] = None\n",
    "player['NBA_FLAG'] = None\n",
    "player['GAMES_PLAYED_FLAG'] = None\n",
    "player['DRAFT_YEAR'] = None\n",
    "player['DRAFT_ROUND'] = None\n",
    "player['DRAFT_NUMBER'] = None\n",
    "player['IS_ACTIVE'] = False\n",
    "player['affiliation_state'] = None\n",
    "player['affiliation_country'] = None\n",
    "# \n",
    "player['PLAYER_NAME'] = None\n",
    "player['TimeFrame'] = None\n",
    "player['PTS'] = None\n",
    "player['AST'] = None\n",
    "player['REB'] = None\n",
    "player['ALL_STAR_APPEARANCES'] = None\n",
    "\n",
    "# Create the header for URL\n",
    "custom_headers = {\n",
    "    'Host': 'stats.nba.com',\n",
    "    'Connection': 'keep-alive',\n",
    "    'Cache-Control': 'max-age=0',\n",
    "    'Upgrade-Insecure-Requests': '1',\n",
    "    'User-Agent': 'Mozilla/5.0 (Macintosh; Intel Mac OS X 10_14_3) AppleWebKit/537.36 (KHTML, like Gecko) Chrome/73.0.3683.86 Safari/537.36',\n",
    "    'Accept': 'text/html,application/xhtml+xml,application/xml;q=0.9,image/webp,image/apng,*/*;q=0.8,application/signed-exchange;v=b3',\n",
    "    'Accept-Encoding': 'gzip, deflate, br',\n",
    "    'Accept-Language': 'en-US,en;q=0.9',\n",
    "}\n"
   ]
  },
  {
   "cell_type": "code",
   "execution_count": null,
   "metadata": {},
   "outputs": [],
   "source": [
    "count = 0 \n",
    "for index, row in player.iterrows(): \n",
    "    count += 1\n",
    "    time.sleep(2)\n",
    "    print(f\"Processing id = {row['PLAYER_ID']} - Record {count}\")\n",
    "    try: \n",
    "\n",
    "        response = commonplayerinfo.CommonPlayerInfo(player_id=row['PLAYER_ID'], headers=custom_headers, timeout=100).get_dict()\n",
    "\n",
    "        player_info = response['resultSets'][0]['rowSet'][0]\n",
    "\n",
    "        player.loc[index, 'PERSON_ID']                  = player_info[0]\n",
    "        player.loc[index, 'FIRST_NAME']                 = player_info[1]\n",
    "        player.loc[index, 'LAST_NAME']                  = player_info[2]\n",
    "        player.loc[index, 'FULL_NAME']                  = player_info[3]\n",
    "        player.loc[index, 'DISPLAY_LAST_COMMA_FIRST']   = player_info[4]\n",
    "        player.loc[index, 'DISPLAY_FI_LAST']            = player_info[5]\n",
    "        player.loc[index, 'BIRTHDATE']                  = player_info[6]\n",
    "        player.loc[index, 'SCHOOL']                     = player_info[7]\n",
    "        player.loc[index, 'COUNTRY']                    = player_info[8]\n",
    "        player.loc[index, 'LAST_AFFILIATION']           = player_info[9]\n",
    "        player.loc[index, 'HEIGHT']                     = player_info[10]\n",
    "        player.loc[index, 'WEIGHT']                     = player_info[11]\n",
    "        player.loc[index, 'SEASON_EXP']                 = player_info[12]\n",
    "        player.loc[index, 'JERSEY']                     = player_info[13]\n",
    "        player.loc[index, 'POSITION']                   = player_info[14]\n",
    "        player.loc[index, 'ROSTERSTATUS']               = player_info[15]\n",
    "        player.loc[index, 'TEAM_ID']                    = player_info[16]\n",
    "        player.loc[index, 'TEAM_NAME']                  = player_info[17]\n",
    "        player.loc[index, 'TEAM_ABBREVIATION']          = player_info[18]\n",
    "        player.loc[index, 'TEAM_CODE']                  = player_info[19]\n",
    "        player.loc[index, 'TEAM_CITY']                  = player_info[20]\n",
    "        player.loc[index, 'PLAYERCODE']                 = player_info[21]\n",
    "        player.loc[index, 'FROM_YEAR']                  = player_info[22]\n",
    "        player.loc[index, 'TO_YEAR']                    = player_info[23]\n",
    "        player.loc[index, 'DLEAGUE_FLAG']               = player_info[24]\n",
    "        player.loc[index, 'NBA_FLAG']                   = player_info[25]\n",
    "        player.loc[index, 'GAMES_PLAYED_FLAG']          = player_info[26]\n",
    "        player.loc[index, 'DRAFT_YEAR']                 = player_info[27]\n",
    "        player.loc[index, 'DRAFT_ROUND']                = player_info[28]\n",
    "        player.loc[index, 'DRAFT_NUMBER']               = player_info[29]\n",
    "\n",
    "        # Split the affiliation if is filled \n",
    "        affiliation  = player_info[9]\n",
    "        if (affiliation is None):\n",
    "              affiliation = \"\"\n",
    "        if (len(affiliation.split(\"/\")) == 2):\n",
    "            player.loc[index, 'affiliation_state'] = affiliation.split(\"/\")[0] \n",
    "            player.loc[index, 'affiliation_country'] = affiliation.split(\"/\")[1]   \n",
    "\n",
    "        # Complementary Data:\n",
    "        # Check whether data exist.\n",
    "        if len(response['resultSets'][1]['rowSet']) > 0:\n",
    "            complement = response['resultSets'][1]['rowSet'][0]\n",
    "            player.loc[index, 'PLAYER_NAME']          = complement[1]\n",
    "            player.loc[index, 'TimeFrame']            = complement[2]\n",
    "            player.loc[index, 'PTS']                  = complement[3]\n",
    "            player.loc[index, 'AST']                  = complement[4]\n",
    "            player.loc[index, 'REB']                  = complement[5]\n",
    "            player.loc[index, 'ALL_STAR_APPEARANCES'] = complement[6]\n",
    "\n",
    "        # LOOPING TO GET ALL SEASONS TO THE CURRENT PLAYER AND SAVE IN A SEPARATED DF\n",
    "        seasons_resp = response['resultSets'][2]['rowSet']\n",
    "        for season in seasons_resp:\n",
    "          seasons = seasons.append({'PLAYER_ID':row['PLAYER_ID'], 'SEASON_ID':season[0]}, ignore_index=True)\n",
    "\n",
    "    except:    \n",
    "        print(f\"We've got an error when processing id={row['PLAYER_ID']}.\")\n",
    "\n",
    "#     if (count == 10):\n",
    "#         break\n",
    "                  \n",
    "    if (count % 100 == 0):\n",
    "        time.sleep(2)\n"
   ]
  },
  {
   "cell_type": "code",
   "execution_count": null,
   "metadata": {},
   "outputs": [],
   "source": [
    "# Preview Players\n",
    "player.head(20)"
   ]
  },
  {
   "cell_type": "code",
   "execution_count": null,
   "metadata": {},
   "outputs": [],
   "source": [
    "# Preview Seasons\n",
    "seasons.head(20)"
   ]
  },
  {
   "cell_type": "code",
   "execution_count": null,
   "metadata": {},
   "outputs": [],
   "source": [
    "# Assign the players' file to a variable \n",
    "players_file = os.path.join(\".\", \"Resources\", \"players.csv\")\n",
    "player.to_csv(players_file, encoding=\"utf-8\", index=False)"
   ]
  },
  {
   "cell_type": "code",
   "execution_count": null,
   "metadata": {},
   "outputs": [],
   "source": [
    "# Assign the seasons' file to a variable \n",
    "seasons_file = os.path.join(\".\", \"Resources\", \"seasons.csv\")\n",
    "seasons.to_csv(seasons_file, encoding=\"utf-8\", index=False)"
   ]
  }
 ],
 "metadata": {
  "kernelspec": {
   "display_name": "Python 3",
   "language": "python",
   "name": "python3"
  },
  "language_info": {
   "codemirror_mode": {
    "name": "ipython",
    "version": 3
   },
   "file_extension": ".py",
   "mimetype": "text/x-python",
   "name": "python",
   "nbconvert_exporter": "python",
   "pygments_lexer": "ipython3",
   "version": "3.6.8"
  }
 },
 "nbformat": 4,
 "nbformat_minor": 2
}

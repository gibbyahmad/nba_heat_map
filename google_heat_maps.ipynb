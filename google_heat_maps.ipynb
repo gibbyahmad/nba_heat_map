{
 "cells": [
  {
   "cell_type": "code",
   "execution_count": 3,
   "metadata": {},
   "outputs": [],
   "source": [
    "# Dependencies\n",
    "from census import Census\n",
    "from API_keys import gkey\n",
    "import gmaps\n",
    "import numpy as np\n",
    "import pandas as pd\n",
    "import requests\n",
    "import time\n",
    "from us import states\n",
    "\n",
    "\n",
    "# Census API Key\n",
    "c = gkey"
   ]
  },
  {
   "cell_type": "code",
   "execution_count": null,
   "metadata": {},
   "outputs": [],
   "source": [
    "# Run Census Search to retrieve data on all zip codes (2013 ACS5 Census)\n",
    "# See: https://github.com/CommerceDataService/census-wrapper for library documentation\n",
    "# See: https://gist.github.com/afhaque/60558290d6efd892351c4b64e5c01e9b for labels\n",
    "#census_data = c.acs5.get((\"B01003_001E\", \"B23025_005E\"), {\n",
    "                         #'for': 'zip code tabulation area:*'})\n",
    "\n",
    "# Convert to DataFrame\n",
    "#census_pd = pd.DataFrame(census_data)\n",
    "\n",
    "# Column Reordering\n",
    "#census_pd = census_pd.rename(columns={\"B01003_001E\": \"Population\",\n",
    "                                      #\"B23025_005E\": \"Unemployment Count\",\n",
    "                                      #\"zip code tabulation area\": \"Zipcode\"})\n",
    "\n",
    "# Add in Employment Rate (Employment Count / Population)\n",
    "#census_pd[\"Unemployment Rate\"] = 100 * \\\n",
    "#    census_pd[\"Unemployment Count\"].astype(\n",
    "#        int) / census_pd[\"Population\"].astype(int)\n",
    "\n",
    "# Final DataFrame\n",
    "#census_pd = census_pd[[\"Zipcode\", \"Population\", \"Unemployment Rate\"]]\n",
    "\n",
    "# Visualize\n",
    "#print(len(census_pd))\n",
    "#census_pd.head()"
   ]
  }
 ],
 "metadata": {
  "kernelspec": {
   "display_name": "Python 3",
   "language": "python",
   "name": "python3"
  },
  "language_info": {
   "codemirror_mode": {
    "name": "ipython",
    "version": 3
   },
   "file_extension": ".py",
   "mimetype": "text/x-python",
   "name": "python",
   "nbconvert_exporter": "python",
   "pygments_lexer": "ipython3",
   "version": "3.7.3"
  }
 },
 "nbformat": 4,
 "nbformat_minor": 2
}

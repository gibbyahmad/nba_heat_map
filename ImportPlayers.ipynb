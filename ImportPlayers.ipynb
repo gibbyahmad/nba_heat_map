{
 "cells": [
  {
   "cell_type": "code",
   "execution_count": 1,
   "metadata": {},
   "outputs": [],
   "source": [
    "# Import dependencies\n",
    "import pandas as pd\n",
    "import unirest\n",
    "import pprint, json\n",
    "import time, os\n",
    "from config import api_key"
   ]
  },
  {
   "cell_type": "code",
   "execution_count": 2,
   "metadata": {},
   "outputs": [
    {
     "data": {
      "text/html": [
       "<div>\n",
       "<style scoped>\n",
       "    .dataframe tbody tr th:only-of-type {\n",
       "        vertical-align: middle;\n",
       "    }\n",
       "\n",
       "    .dataframe tbody tr th {\n",
       "        vertical-align: top;\n",
       "    }\n",
       "\n",
       "    .dataframe thead th {\n",
       "        text-align: right;\n",
       "    }\n",
       "</style>\n",
       "<table border=\"1\" class=\"dataframe\">\n",
       "  <thead>\n",
       "    <tr style=\"text-align: right;\">\n",
       "      <th></th>\n",
       "      <th>playerId</th>\n",
       "    </tr>\n",
       "  </thead>\n",
       "  <tbody>\n",
       "    <tr>\n",
       "      <th>0</th>\n",
       "      <td>1</td>\n",
       "    </tr>\n",
       "    <tr>\n",
       "      <th>1</th>\n",
       "      <td>2</td>\n",
       "    </tr>\n",
       "    <tr>\n",
       "      <th>2</th>\n",
       "      <td>3</td>\n",
       "    </tr>\n",
       "    <tr>\n",
       "      <th>3</th>\n",
       "      <td>4</td>\n",
       "    </tr>\n",
       "    <tr>\n",
       "      <th>4</th>\n",
       "      <td>5</td>\n",
       "    </tr>\n",
       "  </tbody>\n",
       "</table>\n",
       "</div>"
      ],
      "text/plain": [
       "   playerId\n",
       "0         1\n",
       "1         2\n",
       "2         3\n",
       "3         4\n",
       "4         5"
      ]
     },
     "execution_count": 2,
     "metadata": {},
     "output_type": "execute_result"
    }
   ],
   "source": [
    "# Create a DataFrame with all the Players IDs\n",
    "player = pd.DataFrame({\"playerId\":[x for x in range(1, 2241, 1)]})\n",
    "player.head()"
   ]
  },
  {
   "cell_type": "code",
   "execution_count": 3,
   "metadata": {},
   "outputs": [],
   "source": [
    "# Add new fields to DF.\n",
    "player['firstName'] = None \n",
    "player['lastName'] = None \n",
    "player['fullname'] = None \n",
    "player['affiliation'] = '' \n",
    "player['affiliation_city'] = '' \n",
    "player['affiliation_country'] = '' \n",
    "player['collegeName'] = ''\n",
    "player['country'] = '' \n",
    "player['dateOfBirth'] = None\n",
    "player['heightInMeters'] = None \n",
    "player['startNba'] = None \n",
    "player['teamId'] = None \n",
    "player['weightInKilograms'] = None\n",
    "player['yearsPro'] = None\n",
    "\n",
    "count = 0\n",
    "url = \"https://api-nba-v1.p.rapidapi.com/players/playerId/\"\n",
    "for index, row in player.iterrows(): \n",
    "    # Sleep for one second between each request.\n",
    "    time.sleep(1)\n",
    "    count += 1;\n",
    "    if count >= 1:\n",
    "        break\n",
    "    \n",
    "    curr_url = f\"{url}{row['playerId']}\" \n",
    "\n",
    "    # Execute the current request\n",
    "    response = unirest.get(curr_url,\n",
    "      headers={\n",
    "        \"X-RapidAPI-Host\": \"api-nba-v1.p.rapidapi.com\",\n",
    "        \"X-RapidAPI-Key\": api_key,\n",
    "      }\n",
    "    )\n",
    "    r = response.body\n",
    "    affiliation  = r['api']['players'][0]['affiliation'] \n",
    "    \n",
    "    # Fill new fields\n",
    "    player.loc[index, 'firstName'] =  r['api']['players'][0]['firstName'] \n",
    "    player.loc[index, 'lastName'] =  r['api']['players'][0]['lastName'] \n",
    "    player.loc[index, 'fullname'] = r['api']['players'][0]['firstName'] + ' ' + r['api']['players'][0]['lastName']\n",
    "    player.loc[index, 'affiliation'] = affiliation\n",
    "    player.loc[index, 'collegeName'] = r['api']['players'][0]['collegeName']\n",
    "    player.loc[index, 'country'] =   r['api']['players'][0]['country']\n",
    "    player.loc[index, 'dateOfBirth'] = r['api']['players'][0]['dateOfBirth']\n",
    "    player.loc[index, 'heightInMeters'] =  r['api']['players'][0]['heightInMeters'] \n",
    "    player.loc[index, 'startNba'] =  r['api']['players'][0]['startNba'] \n",
    "    player.loc[index, 'teamId'] =  r['api']['players'][0]['teamId'] \n",
    "    player.loc[index, 'weightInKilograms'] = r['api']['players'][0]['weightInKilograms'] \n",
    "    player.loc[index, 'yearsPro'] =  r['api']['players'][0]['yearsPro']\n",
    "\n",
    "    # Split the affiliation if is filled \n",
    "    if len(affiliation.split(\"/\")) == 2:\n",
    "        player.loc[index, 'affiliation_city'] = affiliation.split(\"/\")[0] \n",
    "        player.loc[index, 'affiliation_country'] = affiliation.split(\"/\")[1]   \n"
   ]
  },
  {
   "cell_type": "code",
   "execution_count": 4,
   "metadata": {},
   "outputs": [],
   "source": [
    "# Assign the players' file to a variable \n",
    "players_file = os.path.join(\".\", \"Resources\", \"players.csv\")\n",
    "# player.to_csv(players_file, encoding=\"utf-8\", index=False)"
   ]
  },
  {
   "cell_type": "code",
   "execution_count": 5,
   "metadata": {},
   "outputs": [],
   "source": [
    "# Starting cleasing. Checking for duplicated players.\n",
    "players = pd.read_csv(players_file)\n",
    "\n",
    "# Drop useless fields\n",
    "players.drop(axis=1, columns=[\"playerId\", 'firstName','affiliation','lastName','dateOfBirth','heightInMeters','startNba','teamId','weightInKilograms','yearsPro', 'collegeName','country'],inplace=True) \n",
    "\n",
    "# Drop Nas \n",
    "players = players.dropna(how=\"any\")\n",
    "\n",
    "# Drop duplicated\n",
    "players.drop_duplicates('fullname', 'last', inplace=True)\n"
   ]
  },
  {
   "cell_type": "code",
   "execution_count": 6,
   "metadata": {},
   "outputs": [],
   "source": [
    "# Merge the files\n",
    "statistics_file = os.path.join(\".\", \"Resources\", \"perplayerstatistics.csv\")\n",
    "statistics = pd.read_csv(statistics_file)\n",
    "merged = statistics.merge(players.rename(columns={'fullname':'name'}),how='left')\n",
    "len(merged)\n",
    "\n",
    "merged_file = os.path.join(\".\", \"Resources\", \"final_file.csv\")\n",
    "merged.to_csv(merged_file, encoding=\"utf-8\", index=False)"
   ]
  },
  {
   "cell_type": "code",
   "execution_count": null,
   "metadata": {},
   "outputs": [],
   "source": []
  }
 ],
 "metadata": {
  "kernelspec": {
   "display_name": "Python 3",
   "language": "python",
   "name": "python3"
  },
  "language_info": {
   "codemirror_mode": {
    "name": "ipython",
    "version": 3
   },
   "file_extension": ".py",
   "mimetype": "text/x-python",
   "name": "python",
   "nbconvert_exporter": "python",
   "pygments_lexer": "ipython3",
   "version": "3.6.8"
  }
 },
 "nbformat": 4,
 "nbformat_minor": 2
}
